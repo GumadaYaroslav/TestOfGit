{
  "nbformat": 4,
  "nbformat_minor": 0,
  "metadata": {
    "colab": {
      "name": "ГумадаЯрослав.ipynb",
      "provenance": [],
      "collapsed_sections": [],
      "toc_visible": true,
      "authorship_tag": "ABX9TyMLmirFv6xxUeAMEKcSEVCU",
      "include_colab_link": true
    },
    "kernelspec": {
      "name": "python3",
      "display_name": "Python 3"
    }
  },
  "cells": [
    {
      "cell_type": "markdown",
      "metadata": {
        "id": "view-in-github",
        "colab_type": "text"
      },
      "source": [
        "<a href=\"https://colab.research.google.com/github/GumadaYaroslav/-1.-Colab-GitHub/blob/master/%D0%93%D1%83%D0%BC%D0%B0%D0%B4%D0%B0%D0%AF%D1%80%D0%BE%D1%81%D0%BB%D0%B0%D0%B21.ipynb\" target=\"_parent\"><img src=\"https://colab.research.google.com/assets/colab-badge.svg\" alt=\"Open In Colab\"/></a>"
      ]
    },
    {
      "cell_type": "markdown",
      "metadata": {
        "id": "LRJWLUA5MfSz"
      },
      "source": [
        "# Гумада Ярослав Николаевич КИ19-21б\r\n"
      ]
    },
    {
      "cell_type": "code",
      "metadata": {
        "colab": {
          "base_uri": "https://localhost:8080/"
        },
        "id": "LLrRtts-MS_V",
        "outputId": "39735d39-8f08-419e-9fac-6e4dc080527d"
      },
      "source": [
        "print(\"Привет мир\")"
      ],
      "execution_count": 1,
      "outputs": [
        {
          "output_type": "stream",
          "text": [
            "Привет мир\n"
          ],
          "name": "stdout"
        }
      ]
    }
  ]
}